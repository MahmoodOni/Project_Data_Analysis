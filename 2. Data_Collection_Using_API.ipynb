{
 "cells": [
  {
   "cell_type": "markdown",
   "id": "0d163151",
   "metadata": {},
   "source": [
    "### Objective: Determine the number of jobs currently open for various technologies and for various locations"
   ]
  },
  {
   "cell_type": "markdown",
   "id": "c8ed8deb",
   "metadata": {},
   "source": [
    "Collect the number of job postings for the following locations using the API:\n",
    "\n",
    "* Los Angeles\n",
    "* New York\n",
    "* San Francisco\n",
    "* Washington DC\n",
    "* Seattle\n",
    "* Austin\n",
    "* Detroit\n"
   ]
  },
  {
   "cell_type": "code",
   "execution_count": 1,
   "id": "1b0ea8f3",
   "metadata": {},
   "outputs": [],
   "source": [
    "import pandas as pd\n",
    "import json\n",
    "import requests"
   ]
  },
  {
   "cell_type": "markdown",
   "id": "06357875",
   "metadata": {},
   "source": [
    "#### Write a function to get the number of jobs for the specific technology."
   ]
  },
  {
   "cell_type": "code",
   "execution_count": 2,
   "id": "f2230e03",
   "metadata": {},
   "outputs": [],
   "source": [
    "api_url=\"http://127.0.0.1:5000/data/all\"\n",
    "def get_number_of_jobs_T(technology):\n",
    "    \n",
    "    response_api = requests.get(api_url)\n",
    "\n",
    "    number_of_jobs = 0\n",
    "\n",
    "    if response_api.ok:            \n",
    "        jobs = response_api.json()\n",
    "\n",
    "    for job in jobs:\n",
    "        key = job.get('Key Skills')\n",
    "\n",
    "        if key.find(technology) > -1 :\n",
    "            number_of_jobs = number_of_jobs + 1\n",
    "\n",
    "    number_of_jobs\n",
    "    \n",
    "    return technology,number_of_jobs"
   ]
  },
  {
   "cell_type": "code",
   "execution_count": 3,
   "id": "a1a713bf",
   "metadata": {},
   "outputs": [
    {
     "data": {
      "text/plain": [
       "('Java', 2609)"
      ]
     },
     "execution_count": 3,
     "metadata": {},
     "output_type": "execute_result"
    }
   ],
   "source": [
    "get_number_of_jobs_T('Java')"
   ]
  },
  {
   "cell_type": "code",
   "execution_count": 4,
   "id": "3da94d48",
   "metadata": {},
   "outputs": [
    {
     "data": {
      "text/plain": [
       "('Python', 1173)"
      ]
     },
     "execution_count": 4,
     "metadata": {},
     "output_type": "execute_result"
    }
   ],
   "source": [
    "get_number_of_jobs_T('Python')"
   ]
  },
  {
   "cell_type": "markdown",
   "id": "4b901ceb",
   "metadata": {},
   "source": [
    "#### Write a function to get the number of jobs for specific Location."
   ]
  },
  {
   "cell_type": "code",
   "execution_count": 5,
   "id": "bda194a9",
   "metadata": {},
   "outputs": [],
   "source": [
    "api_url=\"http://127.0.0.1:5000/data/all\"\n",
    "def get_number_of_jobs_L(location):\n",
    "    \n",
    "    response_api = requests.get(api_url)\n",
    "\n",
    "    number_of_jobs = 0\n",
    "\n",
    "    if response_api.ok:            \n",
    "        jobs = response_api.json()\n",
    "\n",
    "    for job in jobs:\n",
    "        key = job.get('Location')\n",
    "\n",
    "        if key.find(location) > -1 :\n",
    "            number_of_jobs = number_of_jobs + 1\n",
    "\n",
    "    number_of_jobs\n",
    "    \n",
    "    return location,number_of_jobs"
   ]
  },
  {
   "cell_type": "code",
   "execution_count": 6,
   "id": "b26f7aea",
   "metadata": {},
   "outputs": [
    {
     "data": {
      "text/plain": [
       "('Los Angeles', 640)"
      ]
     },
     "execution_count": 6,
     "metadata": {},
     "output_type": "execute_result"
    }
   ],
   "source": [
    "get_number_of_jobs_L('Los Angeles')"
   ]
  },
  {
   "cell_type": "code",
   "execution_count": 7,
   "id": "3f40fb98",
   "metadata": {},
   "outputs": [
    {
     "data": {
      "text/plain": [
       "('New York', 3226)"
      ]
     },
     "execution_count": 7,
     "metadata": {},
     "output_type": "execute_result"
    }
   ],
   "source": [
    "get_number_of_jobs_L('New York')"
   ]
  },
  {
   "cell_type": "markdown",
   "id": "825dee94",
   "metadata": {},
   "source": [
    "### Storing result in an excel file"
   ]
  },
  {
   "cell_type": "code",
   "execution_count": 8,
   "id": "2c595736",
   "metadata": {},
   "outputs": [],
   "source": [
    "locations = ['Los Angeles','New York','San Francisco','Washington DC','Seattle','Austin','Detroit']"
   ]
  },
  {
   "cell_type": "code",
   "execution_count": 9,
   "id": "e0e9abfe",
   "metadata": {},
   "outputs": [],
   "source": [
    "from openpyxl import Workbook"
   ]
  },
  {
   "cell_type": "code",
   "execution_count": 10,
   "id": "769f35f3",
   "metadata": {},
   "outputs": [],
   "source": [
    "wb1 = Workbook()\n",
    "ws1 = wb1.active"
   ]
  },
  {
   "cell_type": "code",
   "execution_count": 11,
   "id": "b5685121",
   "metadata": {},
   "outputs": [],
   "source": [
    "ws1.append(['Location','Number of Jobs'])\n",
    "\n",
    "for i in range(len(locations)):\n",
    "    ws1.append(get_number_of_jobs_L(locations[i]))"
   ]
  },
  {
   "cell_type": "code",
   "execution_count": 12,
   "id": "c13bd189",
   "metadata": {},
   "outputs": [],
   "source": [
    "wb1.save('2.a-job-postings-Locations (Collected from API).xlsx')\n",
    "wb1.close()"
   ]
  },
  {
   "cell_type": "code",
   "execution_count": 13,
   "id": "dad7fa72",
   "metadata": {},
   "outputs": [],
   "source": [
    "wb2 = Workbook()\n",
    "ws2 = wb2.active\n",
    "\n",
    "technologies = ['C','C#','C++','Java','JavaScript','Python','Scala','Oracle','SQL Server','MySQL Server','PostgreSQL','MongoDB']\n",
    "\n",
    "ws2.append(['Technologies','Number of Jobs'])\n",
    "\n",
    "for i in range(len(technologies)):\n",
    "    ws2.append(get_number_of_jobs_T(technologies[i]))\n",
    "\n",
    "wb2.save('2.a-job-postings-Technologies (Collected from API).xlsx')\n",
    "wb2.close()"
   ]
  },
  {
   "cell_type": "code",
   "execution_count": null,
   "id": "08854b1d",
   "metadata": {},
   "outputs": [],
   "source": []
  }
 ],
 "metadata": {
  "kernelspec": {
   "display_name": "Python 3 (ipykernel)",
   "language": "python",
   "name": "python3"
  },
  "language_info": {
   "codemirror_mode": {
    "name": "ipython",
    "version": 3
   },
   "file_extension": ".py",
   "mimetype": "text/x-python",
   "name": "python",
   "nbconvert_exporter": "python",
   "pygments_lexer": "ipython3",
   "version": "3.9.12"
  }
 },
 "nbformat": 4,
 "nbformat_minor": 5
}
