{
 "cells": [
  {
   "cell_type": "markdown",
   "id": "14af45ab",
   "metadata": {},
   "source": [
    "### Extract information from the website"
   ]
  },
  {
   "cell_type": "code",
   "execution_count": 1,
   "id": "5a8be702",
   "metadata": {},
   "outputs": [],
   "source": [
    "url = \"https://cf-courses-data.s3.us.cloud-object-storage.appdomain.cloud/IBM-DA0321EN-SkillsNetwork/labs/datasets/Programming_Languages.html\""
   ]
  },
  {
   "cell_type": "code",
   "execution_count": 2,
   "id": "390e417e",
   "metadata": {},
   "outputs": [],
   "source": [
    "from bs4 import BeautifulSoup\n",
    "import requests"
   ]
  },
  {
   "cell_type": "code",
   "execution_count": 3,
   "id": "6b5297f4",
   "metadata": {},
   "outputs": [],
   "source": [
    "data=requests.get(url).text"
   ]
  },
  {
   "cell_type": "code",
   "execution_count": 5,
   "id": "11fcdad4",
   "metadata": {},
   "outputs": [],
   "source": [
    "soup=BeautifulSoup(data,'html5lib')"
   ]
  },
  {
   "cell_type": "code",
   "execution_count": 7,
   "id": "10f82c1b",
   "metadata": {},
   "outputs": [],
   "source": [
    "table=soup.find('table')"
   ]
  },
  {
   "cell_type": "code",
   "execution_count": 21,
   "id": "18802428",
   "metadata": {},
   "outputs": [
    {
     "data": {
      "text/plain": [
       "['Language , Average Annual Salary',\n",
       " 'Python , 114383',\n",
       " 'Java , 101013',\n",
       " 'R , 92037',\n",
       " 'Javascript , 110981',\n",
       " 'Swift , 130801',\n",
       " 'C++ , 113865',\n",
       " 'C# , 88726',\n",
       " 'PHP , 84727',\n",
       " 'SQL , 84793',\n",
       " 'Go , 94082']"
      ]
     },
     "execution_count": 21,
     "metadata": {},
     "output_type": "execute_result"
    }
   ],
   "source": [
    "popular_languages = []\n",
    "\n",
    "for row in table.find_all('tr'): \n",
    "    \n",
    "    cols = row.find_all('td') \n",
    "    language = cols[1].getText() \n",
    "    avg_salary = cols[3].getText() \n",
    "    popular_languages.append(str(language) + ' , ' + str(avg_salary).replace('$','').replace(',',''))\n",
    "\n",
    "popular_languages"
   ]
  },
  {
   "cell_type": "markdown",
   "id": "733ba8ff",
   "metadata": {},
   "source": [
    "### Write the scraped data into a csv file."
   ]
  },
  {
   "cell_type": "code",
   "execution_count": 22,
   "id": "7e12bba0",
   "metadata": {},
   "outputs": [],
   "source": [
    "import pandas as pd"
   ]
  },
  {
   "cell_type": "code",
   "execution_count": 23,
   "id": "6297b04e",
   "metadata": {},
   "outputs": [],
   "source": [
    "df=pd.DataFrame(popular_languages)"
   ]
  },
  {
   "cell_type": "code",
   "execution_count": 24,
   "id": "48d2b9b4",
   "metadata": {},
   "outputs": [],
   "source": [
    "df.to_csv('2.b-popular-languages(Collected from WebScraping).csv', header=False, index=False)"
   ]
  },
  {
   "cell_type": "code",
   "execution_count": null,
   "id": "f8e7decb",
   "metadata": {},
   "outputs": [],
   "source": []
  }
 ],
 "metadata": {
  "kernelspec": {
   "display_name": "Python 3 (ipykernel)",
   "language": "python",
   "name": "python3"
  },
  "language_info": {
   "codemirror_mode": {
    "name": "ipython",
    "version": 3
   },
   "file_extension": ".py",
   "mimetype": "text/x-python",
   "name": "python",
   "nbconvert_exporter": "python",
   "pygments_lexer": "ipython3",
   "version": "3.9.12"
  }
 },
 "nbformat": 4,
 "nbformat_minor": 5
}
